{
  "nbformat": 4,
  "nbformat_minor": 0,
  "metadata": {
    "colab": {
      "name": "Mag_Charting.ipynb",
      "provenance": [],
      "collapsed_sections": [],
      "toc_visible": true
    },
    "kernelspec": {
      "name": "python3",
      "display_name": "Python 3"
    },
    "language_info": {
      "name": "python"
    }
  },
  "cells": [
    {
      "cell_type": "markdown",
      "source": [
        "# Graphic CheatSheet\n",
        "C:\\Users\\tanma\\Documents\\Cheatsheet_BaseGraphics.pdf\n"
      ],
      "metadata": {
        "id": "Rd2ZNTJlBy7u"
      }
    },
    {
      "cell_type": "markdown",
      "source": [
        "## Bar Chart\n",
        "- Comparing categories\n",
        "\n"
      ],
      "metadata": {
        "id": "qZAP_UDICTjE"
      }
    },
    {
      "cell_type": "code",
      "source": [
        "# Need to convert the raw data in table format first\n",
        "# Count the frequencies for each value of cyl\n",
        "# using the Frequency-Table function\n",
        "counts_cyl <- table(mtcars$cyl)\n",
        "print(counts_cyl)\n",
        "\n",
        "# Create the simplest basic barplot\n",
        "barplot(counts_cyl)\n",
        "\n",
        "# Add Title, axis labels and color\n",
        "barplot(counts_cyl,\n",
        "        names.arg = c('Four','Six','Eight'),   # bae sequence\n",
        "        main= \"Simple Bar Chart\",              # title name\n",
        "        xlab= \"Number of Cylinders\",           # label name\n",
        "        ylab= \"Frequency\",                     # label name\n",
        "        col=rainbow(length(counts_cyl)))       # color of bar"
      ],
      "metadata": {
        "id": "glS6XSMpCX3t"
      },
      "execution_count": null,
      "outputs": []
    },
    {
      "cell_type": "markdown",
      "source": [
        "## Line Chart\n",
        "\n",
        "- Show the direct relationship between 2 variables.\n",
        "- Show how variables changes over time.\n",
        "\n",
        "[Smoothing](http://statseducation.com/Introduction-to-R/modules/graphics/smoothing/)"
      ],
      "metadata": {
        "id": "W43t0q_ADs7p"
      }
    },
    {
      "cell_type": "code",
      "source": [
        "plot(x = pressure$temperature, y = pressure$pressure,\n",
        "     xlab = \"Temperature (Celsius)\",\n",
        "     ylab = \"Pressure\",\n",
        "     main = \"Vapor Pressure of Mercury\", type = \"l\") # if remove \"type = \"l\", will get only the scatter plot.\n",
        "\n",
        "# add points with lines\n",
        "points(x = pressure$temperature, y = pressure$pressure,\n",
        "       col = 'red')"
      ],
      "metadata": {
        "id": "97Ty1a3FDvtf"
      },
      "execution_count": null,
      "outputs": []
    },
    {
      "cell_type": "markdown",
      "source": [
        "## Scatter Plot\n",
        "- Analyzing relationship between two **numeric** variable"
      ],
      "metadata": {
        "id": "2CZOlI5QE9k-"
      }
    },
    {
      "cell_type": "code",
      "source": [
        "## a very basic scatter plot of MPG vs. Weight\n",
        "plot(mtcars$wt, mtcars$mpg,\n",
        "     main=\"Basic Scatter Plot of MPG vs. Weight\",\n",
        "     xlab=\"Car Weight (lbs/1000)\",\n",
        "     ylab=\"Miles Per Gallon\")\n",
        "\n",
        "## Add labels, color dots, regression line\n",
        "plot(mtcars$wt, mtcars$mpg,\n",
        "     main=\"Scatter Plot of MPG vs. Weight\", # title\n",
        "     xlab=\"Car Weight (lbs/1000)\",          # x axis label\n",
        "     ylab=\"Miles Per Gallon\",               # y axis label\n",
        "     font.lab=2,                            # 2=bold, 3=italics\n",
        "     pch=16,                                # change point symbol\n",
        "     col=\"blue\")                            # set point colour\n",
        "\n",
        "## add a line to fit the data\n",
        "abline(lm(mtcars$mpg~mtcars$wt),            # add a regression line\n",
        "       col=\"red\",                           # set line colour\n",
        "       lty=3,                               # set line type\n",
        "       lwd=2)                               # set line width"
      ],
      "metadata": {
        "id": "K93SRuMMFXQf"
      },
      "execution_count": null,
      "outputs": []
    },
    {
      "cell_type": "markdown",
      "source": [
        "## Pie Chart\n",
        "Not useful"
      ],
      "metadata": {
        "id": "Y7TJ1CWcGAwB"
      }
    },
    {
      "cell_type": "markdown",
      "source": [
        "## Box Plot\n",
        "- Min, Q1 (25%), Median, Q3 (75%), Max\n",
        "- can be use for comparison"
      ],
      "metadata": {
        "id": "YBE1tWlCGMKM"
      }
    },
    {
      "cell_type": "markdown",
      "source": [
        "# GGplot2\n",
        "CheatSheet - C:\\Users\\tanma\\Documents\\Cheatsheet_ggplot2.pdf\n",
        "\n",
        "[More](https://ggplot2.tidyverse.org/)\n",
        "\n",
        "[filter + ggplot](https://rladiessydney.org/courses/ryouwithme/03-vizwhiz-1/#1-4-putting-it-all-together-dplyr-ggplot)\n"
      ],
      "metadata": {
        "id": "6baQQs2cQRuK"
      }
    },
    {
      "cell_type": "code",
      "source": [
        "\n",
        "\n",
        "##################### Bar Chart s24 ###################### \n",
        "ggplot(mtcars, aes(x = mpg, fill = factor(cyl))) +  \n",
        "\tgeom_histogram(binwidth = 5, col = \"black\") +     \n",
        "\tggtitle(\"Histogram of MPG by Cylinders \") +\n",
        "  labs(fill=\"Cylinders\") +\n",
        "\ttheme(legend.position=\"top\")\n",
        " \n",
        " # + sign = adding layer by layer\n",
        " # Factor = changing the thing to category field, so the R will not recognize it as number\n",
        " # Fill = filling it with color\n",
        " # theme = summary of theme of the chart \n",
        "\n",
        "##################### Bar Chart s25 ###################### \n",
        "# Scatterplot with confidence intervals\n",
        "fcyl= factor(cyl, labels = c(\"Four\", \"Six\", \"Eight\"))\n",
        "ggplot(mtcars, aes(wt, mpg)) + \n",
        "\tgeom_point(aes(color=fcyl), size=4, alpha=0.5) + \n",
        "\tgeom_smooth(size = 1, linetype = 1, color= \"red\", se = FALSE) + \n",
        "\ttheme_bw(base_family = \"Times\") + \n",
        "\tlabs(x = \"Car Gross Weight (1000'lbs)\", \n",
        "               y = \"Highway (miles/gallon)\", \n",
        "               title = \"Fuel Consumption for 32 Automobiles (1973-1974 models)\", \n",
        "               subtitle = \"Statistics Bootcamp Course\", \n",
        "               color = \"No. Cylinders\")\n",
        "\n",
        "# alpha = 0.5 is the transparency of the dots, so that there is a overlap, it will the change in color \n",
        "# geom_smooth = the line will be a smooth line\n",
        "# linetype = 1 is the line style, line is solid line, 2 is dot line etc\n",
        "# SE = standard error (false or true)\n",
        "# theme = times romance (font)\n",
        "\n",
        "# add method='lm' into geom_smooth\n",
        "# try: theme_linedraw, theme_dark, theme_light, theme_classic\n",
        "\n",
        "##################### Bar Chart s26 ###################### \n",
        "# Faceting example\n",
        "ggplot(mtcars, aes(x=wt, y=mpg)) + \n",
        "\tgeom_point(aes(color=factor(am))) + \n",
        "\ttheme_bw(base_family = \"Times\") + \n",
        "\tlabs(x = \"Highway (miles/gallon)\", \n",
        "          y = \"Car Gross Weight (1000'lbs)\", \n",
        "          title = \"Fuel Consumption for 32 Automobiles (1973-1974 models)\", \n",
        "          subtitle = \"Statistics Bootcamp\", \n",
        "          color = \"0=Auto, 1=Manual\") + \n",
        "\tfacet_grid(cyl ~ gear, margins = TRUE)\n",
        " \n",
        "# facet_grid = allow us to add in 2 new dimensions, eg. cyl and gear\n",
        "# margins = TRUE it will show a consolidated results, column (all) in this case, if FALES will not have column (all)\n",
        "\n",
        "# try changing margins = FALSE\n",
        "\n",
        "# A very Simple version\n",
        "ggplot( mtcars , aes(x=mpg, y=wt )) + \n",
        "  geom_point() +\n",
        "  facet_grid( cyl ~ gear)\n",
        "\n",
        "# can add annotatio to the point\n",
        "+ annotate ()\n",
        "https://www.r-graph-gallery.com/233-add-annotations-on-ggplot2-chart.html\n",
        "https://ggplot2.tidyverse.org/reference/annotate.html\n",
        "\n",
        "# save the plot，can also use the export function in Plot tab\n",
        "ggsave('file name') # default to save the plot that last displayed\n"
      ],
      "metadata": {
        "id": "knIKV3UmREHu"
      },
      "execution_count": null,
      "outputs": []
    },
    {
      "cell_type": "markdown",
      "source": [
        "# Tableau\n",
        "\n",
        "[Guide](https://public.tableau.com/en-us/s/resources)"
      ],
      "metadata": {
        "id": "s4ssgGDR_8Pb"
      }
    },
    {
      "cell_type": "markdown",
      "source": [
        ""
      ],
      "metadata": {
        "id": "_GwXY2fO_8qb"
      }
    }
  ]
}