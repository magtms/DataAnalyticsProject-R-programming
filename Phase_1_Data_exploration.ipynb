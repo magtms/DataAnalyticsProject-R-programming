{
  "nbformat": 4,
  "nbformat_minor": 0,
  "metadata": {
    "colab": {
      "name": "Phase 1 - Data exploration.ipynb",
      "provenance": [],
      "collapsed_sections": []
    },
    "kernelspec": {
      "name": "python3",
      "display_name": "Python 3"
    },
    "language_info": {
      "name": "python"
    }
  },
  "cells": [
    {
      "cell_type": "markdown",
      "source": [
        "# Data Exploratory Analysis\n",
        "\n",
        "The statistics provided from Chart 1 revealed Mainland China, with the highest number, 88,200, of issues logged between the period of 01 January 2016 and 12 May 2021. Hong Kong was second at 28,800, followed by Japan (12,500), Taiwan (6,300) and Korea (6,000). The volume of the remaining countries was insignificant for the current study. \n",
        "\n",
        "![Chart 1](https://drive.google.com/uc?export=view&id=13KPWasIkR1qtu-vlykdcTrfJ6dr4qkbc)\n",
        "*Chart 1: Total Number of Issues Raised from the year 2016 to May 2021 (by Country Level).*\n",
        "\n",
        "\n",
        "![Graph 2](https://drive.google.com/uc?export=view&id=13LSX6LcyJxE04TRJvEy5fzh0v9MqRofk)\n",
        "\n",
        "*Graph 2: Plot of the Number of Issues and Projects from January 2016 to May 2021.*\n",
        "\n",
        "Graph 2 illustrates the number of issues and projects on a country level over a span of 4.5 years, from January 2016 to May 2021. On a general outlook, it depicts an increasing trend until 2018 and a downward trend thereafter. This was reflected by both number of issues and projects.\n",
        "\n",
        "\n",
        "![Graph 3](https://drive.google.com/uc?export=view&id=13PO-otEEme7LQArC0Lp8feav3OmgbOlP)\n",
        "*Graph 3: Plot of the Number of Issues at the Country Level from January 2016 to May 2021.*\n",
        "\n",
        "To obtain more insights, Graph 3 was plotted based on a number of issues at the country level. The illustration demonstrates Mainland China having the highest number of issues which peaked at 3,567 issues in June 2018. Following new update, there is a notable drop after December 2019. \n",
        "Hong Kong, on the other hand, had a smaller degree of fluctuations till the year 2020 whereby the number of issues spikes to 1,811 issues in November 2020. Thereafter, the number of issues declined.\n",
        "The remaining countries had minimal fluctuations as the majority of the operation were in either Mainland China or Hong Kong. \n",
        "\n"
      ],
      "metadata": {
        "id": "3sC44xA6cVn-"
      }
    }
  ]
}